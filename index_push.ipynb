{
 "cells": [
  {
   "cell_type": "markdown",
   "metadata": {},
   "source": [
    "#  AI Search - Index (Push) documents for RAG"
   ]
  },
  {
   "cell_type": "markdown",
   "metadata": {},
   "source": [
    "### Docs\n",
    "\n",
    "- https://learn.microsoft.com/en-us/azure/search/search-what-is-azure-search\n",
    "\n",
    "Python SDK\n",
    "https://learn.microsoft.com/en-us/python/api/overview/azure/search-documents-readme?view=azure-python\n",
    "- Key concepts: https://learn.microsoft.com/en-us/python/api/overview/azure/search-documents-readme?view=azure-python#key-concepts\n",
    "\n",
    "Basic appoaches push and pull\n",
    "- https://learn.microsoft.com/en-us/azure/search/search-what-is-data-import\n",
    "- Note: If AI enrichment (https://learn.microsoft.com/en-us/azure/search/cognitive-search-concept-intro) is a solution requirement, you must use the pull model (indexers) to load an index. Skillsets are attached to an indexer and don't run independently."
   ]
  },
  {
   "cell_type": "markdown",
   "metadata": {},
   "source": [
    "### Inspirational sources\n",
    "- https://github.com/Azure/azure-search-vector-samples/blob/main/demo-python/code/integrated-vectorization/azure-search-integrated-vectorization-sample.ipynb"
   ]
  },
  {
   "cell_type": "markdown",
   "metadata": {},
   "source": [
    "### Dependencies\n",
    "- https://learn.microsoft.com/en-us/azure/search/search-api-versions"
   ]
  },
  {
   "cell_type": "code",
   "execution_count": 1,
   "metadata": {},
   "outputs": [],
   "source": [
    "#! pip install -r requirements.txt"
   ]
  },
  {
   "cell_type": "markdown",
   "metadata": {},
   "source": [
    "### Gobal flags (e.g. for debug and development)"
   ]
  },
  {
   "cell_type": "code",
   "execution_count": null,
   "metadata": {},
   "outputs": [],
   "source": []
  },
  {
   "cell_type": "markdown",
   "metadata": {},
   "source": [
    "### Load .env file (Copy .env-sample to .env and update accordingly)"
   ]
  },
  {
   "cell_type": "code",
   "execution_count": 2,
   "metadata": {},
   "outputs": [],
   "source": [
    "import os\n",
    "from dotenv import load_dotenv\n",
    "\n",
    "load_dotenv(override=True) # take environment variables from .env.\n",
    "\n",
    "from azure.identity import DefaultAzureCredential\n",
    "from azure.core.credentials import AzureKeyCredential\n",
    "\n",
    "endpoint = os.environ[\"AZURE_SEARCH_SERVICE_ENDPOINT\"]\n",
    "credential = AzureKeyCredential(os.environ[\"AZURE_SEARCH_ADMIN_KEY\"]) if len(os.environ[\"AZURE_SEARCH_ADMIN_KEY\"]) > 0 else DefaultAzureCredential()\n",
    "index_name = os.environ[\"AZURE_SEARCH_INDEX\"]\n",
    "\n",
    "blob_connection_string = os.environ[\"BLOB_CONNECTION_STRING\"]\n",
    "blob_container_name = os.environ[\"BLOB_CONTAINER_NAME\"]\n",
    "\n",
    "azure_openai_endpoint = os.environ[\"AZURE_OPENAI_ENDPOINT\"]\n",
    "azure_openai_key = os.environ[\"AZURE_OPENAI_KEY\"]\n",
    "azure_openai_embedding_deployment = os.environ[\"AZURE_OPENAI_EMBEDDING_DEPLOYMENT\"]"
   ]
  },
  {
   "cell_type": "code",
   "execution_count": 3,
   "metadata": {},
   "outputs": [],
   "source": [
    "from azure.search.documents import SearchClient\n",
    "search_client = SearchClient(endpoint, index_name, credential)"
   ]
  },
  {
   "cell_type": "markdown",
   "metadata": {},
   "source": [
    "### Add document actions to batch"
   ]
  },
  {
   "cell_type": "code",
   "execution_count": 4,
   "metadata": {},
   "outputs": [],
   "source": [
    "unique_term_in_time_and_space = \"ZYX1\""
   ]
  },
  {
   "cell_type": "code",
   "execution_count": 5,
   "metadata": {},
   "outputs": [
    {
     "data": {
      "text/plain": [
       "[<azure.search.documents._generated.models._models_py3.IndexAction at 0x25548c0ffa0>]"
      ]
     },
     "execution_count": 5,
     "metadata": {},
     "output_type": "execute_result"
    }
   ],
   "source": [
    "# https://learn.microsoft.com/en-us/python/api/azure-search-documents/azure.search.documents.indexdocumentsbatch?view=azure-python\n",
    "from azure.search.documents import IndexDocumentsBatch\n",
    "\n",
    "batch = IndexDocumentsBatch()\n",
    "batch.add_upload_actions([{ \"title\": \"push.txt\", \"url\": \"push.txt\", \"id\": \"1\", \"chunk_id\": \"1\", \"content\": f\"This is a push test document: {unique_term_in_time_and_space}\", \"contentVector\": []}])"
   ]
  },
  {
   "cell_type": "code",
   "execution_count": 6,
   "metadata": {},
   "outputs": [],
   "source": [
    "import time\n",
    "\n",
    "def wait_search_for_unique_term(_unique_term_in_time_and_space):\n",
    "    while True:\n",
    "        results = search_client.search(  \n",
    "                search_text=_unique_term_in_time_and_space,  \n",
    "                select=[\"content\"],\n",
    "                top=1\n",
    "            )  \n",
    "\n",
    "        _rnr = 0\n",
    "        for _r in results:\n",
    "            _rnr = _rnr + 1\n",
    "        \n",
    "        if _rnr > 0:\n",
    "            print(\"Found total of results: {}\".format(_rnr))\n",
    "            break\n",
    "        else:\n",
    "            time.sleep(1)"
   ]
  },
  {
   "cell_type": "markdown",
   "metadata": {},
   "source": [
    "### Execute batch"
   ]
  },
  {
   "cell_type": "code",
   "execution_count": 7,
   "metadata": {},
   "outputs": [
    {
     "data": {
      "text/plain": [
       "[<azure.search.documents._generated.models._models_py3.IndexingResult at 0x25548c0f2e0>]"
      ]
     },
     "execution_count": 7,
     "metadata": {},
     "output_type": "execute_result"
    }
   ],
   "source": [
    "search_client.index_documents(batch)"
   ]
  },
  {
   "cell_type": "markdown",
   "metadata": {},
   "source": [
    "### Helper function - Wait for index to contain pushed entries"
   ]
  },
  {
   "cell_type": "code",
   "execution_count": 8,
   "metadata": {},
   "outputs": [],
   "source": [
    "import time\n",
    "\n",
    "def wait_search_for_unique_term(_unique_term_in_time_and_space):\n",
    "    while True:\n",
    "        results = search_client.search(  \n",
    "                search_text=_unique_term_in_time_and_space,  \n",
    "                select=[\"content\"],\n",
    "                top=1\n",
    "            )  \n",
    "\n",
    "        _rnr = 0\n",
    "        for _r in results:\n",
    "            _rnr = _rnr + 1\n",
    "        \n",
    "        if _rnr > 0:\n",
    "            print(\"Found total of results: {}\".format(_rnr))\n",
    "            break\n",
    "        else:\n",
    "            time.sleep(1)"
   ]
  },
  {
   "cell_type": "code",
   "execution_count": 9,
   "metadata": {},
   "outputs": [
    {
     "name": "stdout",
     "output_type": "stream",
     "text": [
      "Found total of results: 1\n"
     ]
    },
    {
     "data": {
      "text/plain": [
       "1.1305372000000005"
      ]
     },
     "execution_count": 9,
     "metadata": {},
     "output_type": "execute_result"
    }
   ],
   "source": [
    "# Wait for index updated\n",
    "import timeit\n",
    "timeit.timeit(lambda: wait_search_for_unique_term(unique_term_in_time_and_space), number=1)"
   ]
  },
  {
   "cell_type": "code",
   "execution_count": 13,
   "metadata": {},
   "outputs": [
    {
     "name": "stdout",
     "output_type": "stream",
     "text": [
      "{'content': 'This is a push test document: ZYX1', '@search.score': 1.1403778, '@search.reranker_score': None, '@search.highlights': None, '@search.captions': None}\n"
     ]
    }
   ],
   "source": [
    "results = search_client.search(  \n",
    "                search_text=unique_term_in_time_and_space,  \n",
    "                select=[\"content\"],\n",
    "                top=1\n",
    "            )  \n",
    "\n",
    "for _r in results:\n",
    "    print(_r)"
   ]
  }
 ],
 "metadata": {
  "kernelspec": {
   "display_name": "pf_py39",
   "language": "python",
   "name": "python3"
  },
  "language_info": {
   "codemirror_mode": {
    "name": "ipython",
    "version": 3
   },
   "file_extension": ".py",
   "mimetype": "text/x-python",
   "name": "python",
   "nbconvert_exporter": "python",
   "pygments_lexer": "ipython3",
   "version": "3.9.19"
  }
 },
 "nbformat": 4,
 "nbformat_minor": 2
}
