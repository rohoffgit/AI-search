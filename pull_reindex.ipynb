{
 "cells": [
  {
   "cell_type": "markdown",
   "metadata": {},
   "source": [
    "# AI Search - Reindex specific documents in pull mode"
   ]
  },
  {
   "cell_type": "code",
   "execution_count": 1,
   "metadata": {},
   "outputs": [],
   "source": [
    "import os\n",
    "from dotenv import load_dotenv\n",
    "\n",
    "load_dotenv(override=True) # take environment variables from .env.\n",
    "\n",
    "from azure.identity import DefaultAzureCredential\n",
    "from azure.core.credentials import AzureKeyCredential\n",
    "\n",
    "endpoint = os.environ[\"AZURE_SEARCH_SERVICE_ENDPOINT\"]\n",
    "credential = AzureKeyCredential(os.environ[\"AZURE_SEARCH_ADMIN_KEY\"]) if len(os.environ[\"AZURE_SEARCH_ADMIN_KEY\"]) > 0 else DefaultAzureCredential()\n",
    "index_name = os.environ[\"AZURE_SEARCH_INDEX\"]\n",
    "\n",
    "blob_connection_string = os.environ[\"BLOB_CONNECTION_STRING\"]\n",
    "blob_container_name = os.environ[\"BLOB_CONTAINER_NAME\"]"
   ]
  },
  {
   "cell_type": "markdown",
   "metadata": {},
   "source": [
    "### 'Touch' blobs to be re-indexed by indexer "
   ]
  },
  {
   "cell_type": "code",
   "execution_count": 4,
   "metadata": {},
   "outputs": [],
   "source": [
    "import datetime\n",
    "\n",
    "def touch_blob(_blob_name, _container_client):\n",
    "    # update metadata on blob to trigger indexing\n",
    "    print(f'Touching metadata of blob: {_blob_name}')\n",
    "    blob_client = _container_client.get_blob_client(_blob_name)\n",
    "    blob_client.set_blob_metadata(metadata={'reprocess': f'{datetime.datetime.now()}'})\n"
   ]
  },
  {
   "cell_type": "code",
   "execution_count": 5,
   "metadata": {},
   "outputs": [
    {
     "name": "stdout",
     "output_type": "stream",
     "text": [
      "Touching metadata of blob: 266 # Christoph Adami on How Information Makes Sense of Biology.txt\n"
     ]
    }
   ],
   "source": [
    "from azure.storage.blob import BlobServiceClient  \n",
    "\n",
    "# loop through blobs and update metadata to trigger indexing\n",
    "\n",
    "# Connect to Blob Storage\n",
    "blob_service_client = BlobServiceClient.from_connection_string(blob_connection_string)\n",
    "container_client = blob_service_client.get_container_client(blob_container_name)\n",
    "\n",
    "blobs_to_reindex = [blob for blob in container_client.list_blob_names()]\n",
    "\n",
    "for _blob_name in blobs_to_reindex:\n",
    "    touch_blob(_blob_name, container_client)"
   ]
  },
  {
   "cell_type": "markdown",
   "metadata": {},
   "source": [
    "### Optional manually run indexer now"
   ]
  },
  {
   "cell_type": "code",
   "execution_count": 7,
   "metadata": {},
   "outputs": [
    {
     "name": "stdout",
     "output_type": "stream",
     "text": [
      "Running testindex150424v4-indexer...\n"
     ]
    }
   ],
   "source": [
    "from azure.search.documents.indexes import SearchIndexerClient\n",
    "\n",
    "indexer_name = f\"{index_name}-indexer\"  \n",
    "indexer_client = SearchIndexerClient(endpoint, credential)  \n",
    "\n",
    "# run indexer\n",
    "print(f'Running {indexer_name}...')\n",
    "indexer_client.run_indexer(indexer_name)  "
   ]
  },
  {
   "cell_type": "code",
   "execution_count": 8,
   "metadata": {},
   "outputs": [
    {
     "name": "stdout",
     "output_type": "stream",
     "text": [
      "success\n"
     ]
    }
   ],
   "source": [
    "# Wait for indexer to finish\n",
    "\n",
    "def wait_for_indexer(seconds=15):\n",
    "    import time \n",
    "    while indexer_client.get_indexer_status(indexer_name).last_result == None or indexer_client.get_indexer_status(indexer_name).last_result.status == 'inProgress':\n",
    "        print('Indexer running...')\n",
    "        time.sleep(seconds)\n",
    "        \n",
    "    print(indexer_client.get_indexer_status(indexer_name).last_result.status)\n",
    "\n",
    "wait_for_indexer(5)"
   ]
  }
 ],
 "metadata": {
  "kernelspec": {
   "display_name": "aisearch_py39",
   "language": "python",
   "name": "python3"
  },
  "language_info": {
   "codemirror_mode": {
    "name": "ipython",
    "version": 3
   },
   "file_extension": ".py",
   "mimetype": "text/x-python",
   "name": "python",
   "nbconvert_exporter": "python",
   "pygments_lexer": "ipython3",
   "version": "3.9.19"
  }
 },
 "nbformat": 4,
 "nbformat_minor": 2
}
