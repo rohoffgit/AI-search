{
 "cells": [
  {
   "cell_type": "markdown",
   "metadata": {},
   "source": [
    "#  AI Search - Search index"
   ]
  },
  {
   "cell_type": "markdown",
   "metadata": {},
   "source": [
    "### Load .env file (Copy .env-sample to .env and update accordingly)"
   ]
  },
  {
   "cell_type": "code",
   "execution_count": 1,
   "metadata": {},
   "outputs": [],
   "source": [
    "import os\n",
    "from dotenv import load_dotenv\n",
    "\n",
    "load_dotenv(override=True) # take environment variables from .env.\n",
    "\n",
    "from azure.identity import DefaultAzureCredential\n",
    "from azure.core.credentials import AzureKeyCredential\n",
    "\n",
    "endpoint = os.environ[\"AZURE_SEARCH_SERVICE_ENDPOINT\"]\n",
    "credential = AzureKeyCredential(os.environ[\"AZURE_SEARCH_ADMIN_KEY\"]) if len(os.environ[\"AZURE_SEARCH_ADMIN_KEY\"]) > 0 else DefaultAzureCredential()\n",
    "index_name = os.environ[\"AZURE_SEARCH_INDEX\"]"
   ]
  },
  {
   "cell_type": "markdown",
   "metadata": {},
   "source": [
    "### Dependencies"
   ]
  },
  {
   "cell_type": "markdown",
   "metadata": {},
   "source": []
  },
  {
   "cell_type": "code",
   "execution_count": 2,
   "metadata": {},
   "outputs": [],
   "source": [
    "#! pip install -r requirements.txt"
   ]
  },
  {
   "cell_type": "markdown",
   "metadata": {},
   "source": [
    "### Global variables"
   ]
  },
  {
   "cell_type": "code",
   "execution_count": 3,
   "metadata": {},
   "outputs": [],
   "source": [
    "from azure.search.documents import SearchClient\n",
    "\n",
    "search_client = SearchClient(endpoint, index_name, credential=credential)"
   ]
  },
  {
   "cell_type": "markdown",
   "metadata": {},
   "source": [
    "### Global evaluation helper"
   ]
  },
  {
   "cell_type": "code",
   "execution_count": 13,
   "metadata": {},
   "outputs": [],
   "source": [
    "def evaluate_results(results):\n",
    "    i=0 \n",
    "    for result in results:  \n",
    "        i=i+1\n",
    "        print(f\"Result index: {i}, score: {result['@search.score']}, title: {result['title']}\") # , content: {result['content']}\n",
    "        if '@search.reranker_score' in result and result['@search.reranker_score'] is not None:   \n",
    "            print(f\"Semantic reranker score: {result['@search.reranker_score']}\")"
   ]
  },
  {
   "cell_type": "markdown",
   "metadata": {},
   "source": [
    "### Query text to be used in all queries"
   ]
  },
  {
   "cell_type": "code",
   "execution_count": 14,
   "metadata": {},
   "outputs": [],
   "source": [
    "query = \"information theory\"  \n",
    "# query = \"ZYX1\""
   ]
  },
  {
   "cell_type": "markdown",
   "metadata": {},
   "source": [
    "### Perform a vector similarity search\n",
    "This example shows a pure vector search using the vectorizable text query, all you need to do is pass in text and your vectorizer will handle the query vectorization."
   ]
  },
  {
   "cell_type": "code",
   "execution_count": 15,
   "metadata": {},
   "outputs": [
    {
     "name": "stdout",
     "output_type": "stream",
     "text": [
      "Result index: 1, score: 0.8818742, title: 266 # Christoph Adami on How Information Makes Sense of Biology.txt\n",
      "Result index: 2, score: 0.8798266, title: 266 # Christoph Adami on How Information Makes Sense of Biology.txt\n",
      "Result index: 3, score: 0.87780064, title: 266 # Christoph Adami on How Information Makes Sense of Biology.txt\n",
      "Result index: 4, score: 0.8686019, title: 266 # Christoph Adami on How Information Makes Sense of Biology.txt\n",
      "Result index: 5, score: 0.8667384, title: 266 # Christoph Adami on How Information Makes Sense of Biology.txt\n"
     ]
    }
   ],
   "source": [
    "from azure.search.documents.models import VectorizableTextQuery\n",
    "\n",
    "# https://learn.microsoft.com/en-us/python/api/azure-search-documents/azure.search.documents.models.vectorizabletextquery?view=azure-python-preview\n",
    "vector_query = VectorizableTextQuery(text=query, k_nearest_neighbors=5, fields=\"contentVector\", exhaustive=True)\n",
    "# Use the below query to pass in the raw vector query instead of the query vectorization\n",
    "# vector_query = RawVectorQuery(vector=generate_embeddings(query), k_nearest_neighbors=3, fields=\"vector\")\n",
    "  \n",
    "results = search_client.search(  \n",
    "    search_text=None,  \n",
    "    vector_queries= [vector_query],\n",
    "    select=[\"title\", \"chunk_id\", \"content\"],\n",
    "    # filter=\"type eq 1\",\n",
    "    top=5\n",
    ")  \n",
    "  \n",
    "evaluate_results(results)"
   ]
  },
  {
   "cell_type": "markdown",
   "metadata": {},
   "source": [
    "## Hybrid search using vectors and full text in Azure AI Search\n",
    "\n",
    "https://learn.microsoft.com/en-us/azure/search/hybrid-search-overview\n",
    "\n",
    "Hybrid search is a combination of full text and vector queries that execute against a search index that contains both searchable plain text content and generated embeddings. For query purposes, hybrid search is:\n",
    "\n",
    "- A single query request that includes both search and vectors query parameters\n",
    "- Executing in parallel\n",
    "- With merged results in the query response, scored using Reciprocal Rank Fusion (RRF, https://learn.microsoft.com/en-us/azure/search/hybrid-search-ranking)\n"
   ]
  },
  {
   "cell_type": "code",
   "execution_count": 16,
   "metadata": {},
   "outputs": [
    {
     "name": "stdout",
     "output_type": "stream",
     "text": [
      "Result index: 1, score: 0.032786883413791656, title: 266 # Christoph Adami on How Information Makes Sense of Biology.txt\n",
      "Result index: 2, score: 0.03159204125404358, title: 266 # Christoph Adami on How Information Makes Sense of Biology.txt\n",
      "Result index: 3, score: 0.03128054738044739, title: 266 # Christoph Adami on How Information Makes Sense of Biology.txt\n",
      "Result index: 4, score: 0.03125, title: 266 # Christoph Adami on How Information Makes Sense of Biology.txt\n",
      "Result index: 5, score: 0.029571646824479103, title: 266 # Christoph Adami on How Information Makes Sense of Biology.txt\n"
     ]
    }
   ],
   "source": [
    "vector_query = VectorizableTextQuery(text=query, k_nearest_neighbors=5, fields=\"contentVector\", exhaustive=True)\n",
    "  \n",
    "results = search_client.search(  \n",
    "    search_text=query,  \n",
    "    vector_queries= [vector_query],\n",
    "    select=[\"title\", \"chunk_id\", \"content\"],\n",
    "    top=5\n",
    ")  \n",
    "\n",
    "evaluate_results(results)"
   ]
  },
  {
   "cell_type": "markdown",
   "metadata": {},
   "source": [
    "## Semantic ranking in Azure AI Search\n",
    "\n",
    "https://learn.microsoft.com/en-us/azure/search/semantic-search-overview?source=recommendations"
   ]
  },
  {
   "cell_type": "code",
   "execution_count": 17,
   "metadata": {},
   "outputs": [
    {
     "name": "stdout",
     "output_type": "stream",
     "text": [
      "Result index: 1, score: 0.03128054738044739, title: 266 # Christoph Adami on How Information Makes Sense of Biology.txt\n",
      "Semantic reranker score: 2.989736557006836\n",
      "Result index: 2, score: 0.014285714365541935, title: 266 # Christoph Adami on How Information Makes Sense of Biology.txt\n",
      "Semantic reranker score: 2.5531556606292725\n",
      "Result index: 3, score: 0.032786883413791656, title: 266 # Christoph Adami on How Information Makes Sense of Biology.txt\n",
      "Semantic reranker score: 2.546262264251709\n",
      "Result index: 4, score: 0.014705882407724857, title: 266 # Christoph Adami on How Information Makes Sense of Biology.txt\n",
      "Semantic reranker score: 2.538602828979492\n"
     ]
    }
   ],
   "source": [
    "from azure.search.documents.models import (\n",
    "    QueryType,\n",
    "    QueryCaptionType,\n",
    "    QueryAnswerType\n",
    ")\n",
    "\n",
    "vector_query = VectorizableTextQuery(text=query, k_nearest_neighbors=5, fields=\"contentVector\", exhaustive=True)\n",
    "\n",
    "results = search_client.search(  \n",
    "    search_text=query,\n",
    "    vector_queries=[vector_query],\n",
    "    select=[\"title\", \"chunk_id\", \"content\"],\n",
    "    query_type=QueryType.SEMANTIC,\n",
    "    semantic_configuration_name='my-semantic-config',\n",
    "    query_caption=QueryCaptionType.EXTRACTIVE,\n",
    "    query_answer=QueryAnswerType.EXTRACTIVE,\n",
    "    top=4\n",
    ")\n",
    "\n",
    "semantic_answers = results.get_answers()\n",
    "if semantic_answers:\n",
    "    for answer in semantic_answers:\n",
    "        if answer.highlights:\n",
    "            print(f\"Semantic Answer: {answer.highlights}\")\n",
    "        else:\n",
    "            print(f\"Semantic Answer: {answer.text}\")\n",
    "        print(f\"Semantic Answer Score: {answer.score}\\n\")\n",
    "\n",
    "\n",
    "evaluate_results(results)"
   ]
  },
  {
   "cell_type": "code",
   "execution_count": null,
   "metadata": {},
   "outputs": [],
   "source": []
  }
 ],
 "metadata": {
  "kernelspec": {
   "display_name": "aisearch_py39",
   "language": "python",
   "name": "python3"
  },
  "language_info": {
   "codemirror_mode": {
    "name": "ipython",
    "version": 3
   },
   "file_extension": ".py",
   "mimetype": "text/x-python",
   "name": "python",
   "nbconvert_exporter": "python",
   "pygments_lexer": "ipython3",
   "version": "3.9.19"
  }
 },
 "nbformat": 4,
 "nbformat_minor": 2
}
